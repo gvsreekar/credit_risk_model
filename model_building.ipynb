{
 "cells": [
  {
   "cell_type": "code",
   "execution_count": 1,
   "metadata": {},
   "outputs": [],
   "source": [
    "# Scientic libraries\n",
    "import numpy as np\n",
    "import pandas as pd \n",
    "import seaborn as sns \n",
    "import matplotlib.pyplot as plt\n",
    "import logging\n",
    "\n",
    "# Helper libraries \n",
    "from tqdm.notebook import tqdm,trange\n",
    "import warnings \n",
    "warnings.filterwarnings('ignore')\n",
    "\n",
    "%config InlineBackend.figure_format = 'retina' # sets the figure format to 'retina' for high-resolution displays.\n",
    "\n",
    "# Pandas options\n",
    "from IPython.core.interactiveshell import InteractiveShell\n",
    "InteractiveShell.ast_node_interactivity = 'all' # To display all interaction \n",
    "pd.set_option('display.max_columns', None)\n",
    "pd.set_option('display.max_rows', 15) # When you print dataframes, 15 rows will be printed\n",
    "\n",
    "# Table styles\n",
    "table_styles = {\n",
    "    'cerulean_palette': [\n",
    "        dict(selector=\"th\", props=[(\"color\", \"#FFFFFF\"), (\"background\", \"#004D80\")]),\n",
    "        dict(selector=\"td\", props=[(\"color\", \"#333333\")]),\n",
    "        dict(selector=\"table\", props=[(\"font-family\", 'Arial'), (\"border-collapse\", \"collapse\")]),\n",
    "        dict(selector='tr:nth-child(even)', props=[('background', '#D3EEFF')]),\n",
    "        dict(selector='tr:nth-child(odd)', props=[('background', '#FFFFFF')]),\n",
    "        dict(selector=\"th\", props=[(\"border\", \"1px solid #0070BA\")]),\n",
    "        dict(selector=\"td\", props=[(\"border\", \"1px solid #0070BA\")]),\n",
    "        dict(selector=\"tr:hover\", props=[(\"background\", \"#80D0FF\")]),\n",
    "        dict(selector=\"tr\", props=[(\"transition\", \"background 0.5s ease\")]),\n",
    "        dict(selector=\"th:hover\", props=[(\"font-size\", \"1.07rem\")]),\n",
    "        dict(selector=\"th\", props=[(\"transition\", \"font-size 0.5s ease-in-out\")]),\n",
    "        dict(selector=\"td:hover\", props=[('font-size', '1.07rem'),('font-weight', 'bold')]),\n",
    "        dict(selector=\"td\", props=[(\"transition\", \"font-size 0.5s ease-in-out\")])\n",
    "    ]\n",
    "}\n",
    "\n",
    "# Seed value for numpy.random => makes notebooks stable across runs\n",
    "np.random.seed(42)\n",
    "\n"
   ]
  },
  {
   "cell_type": "markdown",
   "metadata": {},
   "source": [
    "### Data Ingestion"
   ]
  },
  {
   "cell_type": "code",
   "execution_count": 3,
   "metadata": {},
   "outputs": [],
   "source": [
    "from credit_risk_model.data_processor import DataHandler\n",
    "\n",
    "data_import = DataHandler(file_path='data/raw/LoanTap_data.csv')"
   ]
  },
  {
   "cell_type": "code",
   "execution_count": null,
   "metadata": {},
   "outputs": [],
   "source": []
  }
 ],
 "metadata": {
  "kernelspec": {
   "display_name": "credit-risk-model-EaCMi_1b-py3.11",
   "language": "python",
   "name": "python3"
  },
  "language_info": {
   "codemirror_mode": {
    "name": "ipython",
    "version": 3
   },
   "file_extension": ".py",
   "mimetype": "text/x-python",
   "name": "python",
   "nbconvert_exporter": "python",
   "pygments_lexer": "ipython3",
   "version": "3.11.5"
  }
 },
 "nbformat": 4,
 "nbformat_minor": 4
}
