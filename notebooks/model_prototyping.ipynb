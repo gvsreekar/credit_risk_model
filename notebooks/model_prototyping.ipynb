{
 "cells": [
  {
   "cell_type": "markdown",
   "metadata": {},
   "source": [
    "### Library Set-up"
   ]
  },
  {
   "cell_type": "code",
   "execution_count": 10,
   "metadata": {},
   "outputs": [],
   "source": [
    "# Scientic libraries\n",
    "import numpy as np\n",
    "import pandas as pd \n",
    "import seaborn as sns \n",
    "import matplotlib.pyplot as plt\n",
    "import logging\n",
    "import os\n",
    "import sys\n",
    "\n",
    "parent_dir = os.path.abspath(os.path.join(os.getcwd(),'..'))\n",
    "\n",
    "if parent_dir not in sys.path:\n",
    "    sys.path.append(parent_dir)\n",
    "from credit_risk_model import config\n",
    "\n",
    "# Helper libraries \n",
    "from tqdm.notebook import tqdm,trange\n",
    "import warnings \n",
    "warnings.filterwarnings('ignore')\n",
    "\n",
    "%config InlineBackend.figure_format = 'retina' # sets the figure format to 'retina' for high-resolution displays.\n",
    "\n",
    "# Pandas options\n",
    "from IPython.core.interactiveshell import InteractiveShell\n",
    "InteractiveShell.ast_node_interactivity = 'all' # To display all interaction \n",
    "pd.set_option('display.max_columns', None)\n",
    "pd.set_option('display.max_rows', 15) # When you print dataframes, 15 rows will be printed\n",
    "\n",
    "# Table styles\n",
    "table_styles = {\n",
    "    'cerulean_palette': [\n",
    "        dict(selector=\"th\", props=[(\"color\", \"#FFFFFF\"), (\"background\", \"#004D80\")]),\n",
    "        dict(selector=\"td\", props=[(\"color\", \"#333333\")]),\n",
    "        dict(selector=\"table\", props=[(\"font-family\", 'Arial'), (\"border-collapse\", \"collapse\")]),\n",
    "        dict(selector='tr:nth-child(even)', props=[('background', '#D3EEFF')]),\n",
    "        dict(selector='tr:nth-child(odd)', props=[('background', '#FFFFFF')]),\n",
    "        dict(selector=\"th\", props=[(\"border\", \"1px solid #0070BA\")]),\n",
    "        dict(selector=\"td\", props=[(\"border\", \"1px solid #0070BA\")]),\n",
    "        dict(selector=\"tr:hover\", props=[(\"background\", \"#80D0FF\")]),\n",
    "        dict(selector=\"tr\", props=[(\"transition\", \"background 0.5s ease\")]),\n",
    "        dict(selector=\"th:hover\", props=[(\"font-size\", \"1.07rem\")]),\n",
    "        dict(selector=\"th\", props=[(\"transition\", \"font-size 0.5s ease-in-out\")]),\n",
    "        dict(selector=\"td:hover\", props=[('font-size', '1.07rem'),('font-weight', 'bold')]),\n",
    "        dict(selector=\"td\", props=[(\"transition\", \"font-size 0.5s ease-in-out\")])\n",
    "    ]\n",
    "}\n",
    "\n",
    "# Seed value for numpy.random => makes notebooks stable across runs\n",
    "np.random.seed(config.RANDOM_SEED)"
   ]
  },
  {
   "cell_type": "markdown",
   "metadata": {},
   "source": [
    "### Data Ingestion"
   ]
  },
  {
   "cell_type": "code",
   "execution_count": 13,
   "metadata": {},
   "outputs": [],
   "source": [
    "import credit_risk_model.data_processor as dp\n",
    "df = dp.load_data_and_sanitize(config.FILE_NAME)"
   ]
  },
  {
   "cell_type": "code",
   "execution_count": 22,
   "metadata": {},
   "outputs": [],
   "source": [
    "df['earliest_cr_line']=pd.to_datetime(df['earliest_cr_line'],format='%b-%Y')"
   ]
  },
  {
   "cell_type": "code",
   "execution_count": 28,
   "metadata": {},
   "outputs": [],
   "source": [
    "df['issue_d'] = pd.to_datetime(df['issue_d'])"
   ]
  },
  {
   "cell_type": "code",
   "execution_count": 26,
   "metadata": {},
   "outputs": [
    {
     "name": "stdout",
     "output_type": "stream",
     "text": [
      "<class 'pandas.core.frame.DataFrame'>\n",
      "RangeIndex: 396030 entries, 0 to 396029\n",
      "Data columns (total 27 columns):\n",
      " #   Column                Non-Null Count   Dtype         \n",
      "---  ------                --------------   -----         \n",
      " 0   loan_amnt             396030 non-null  float64       \n",
      " 1   term                  396030 non-null  object        \n",
      " 2   int_rate              396030 non-null  float64       \n",
      " 3   installment           396030 non-null  float64       \n",
      " 4   grade                 396030 non-null  object        \n",
      " 5   sub_grade             396030 non-null  object        \n",
      " 6   emp_title             373103 non-null  object        \n",
      " 7   emp_length            377729 non-null  object        \n",
      " 8   home_ownership        396030 non-null  object        \n",
      " 9   annual_inc            396030 non-null  float64       \n",
      " 10  verification_status   396030 non-null  object        \n",
      " 11  issue_d               396030 non-null  datetime64[ns]\n",
      " 12  loan_status           396030 non-null  object        \n",
      " 13  purpose               396030 non-null  object        \n",
      " 14  title                 394274 non-null  object        \n",
      " 15  dti                   396030 non-null  float64       \n",
      " 16  earliest_cr_line      396030 non-null  datetime64[ns]\n",
      " 17  open_acc              396030 non-null  float64       \n",
      " 18  pub_rec               396030 non-null  float64       \n",
      " 19  revol_bal             396030 non-null  float64       \n",
      " 20  revol_util            395754 non-null  float64       \n",
      " 21  total_acc             396030 non-null  float64       \n",
      " 22  initial_list_status   396030 non-null  object        \n",
      " 23  application_type      396030 non-null  object        \n",
      " 24  mort_acc              358235 non-null  float64       \n",
      " 25  pub_rec_bankruptcies  395495 non-null  float64       \n",
      " 26  address               396030 non-null  object        \n",
      "dtypes: datetime64[ns](2), float64(12), object(13)\n",
      "memory usage: 81.6+ MB\n"
     ]
    }
   ],
   "source": [
    "df.info()"
   ]
  },
  {
   "cell_type": "markdown",
   "metadata": {},
   "source": [
    "### EDA"
   ]
  },
  {
   "cell_type": "code",
   "execution_count": 27,
   "metadata": {},
   "outputs": [],
   "source": [
    "# Instead of doing all the EDA manually will make use of Pandas reporting\n",
    "from ydata_profiling import ProfileReport\n",
    "# profile = ProfileReport(df,title='Pandas profiling of the dataset',explorative=True)\n",
    "# profile.to_notebook_iframe()"
   ]
  },
  {
   "cell_type": "markdown",
   "metadata": {},
   "source": [
    "#### Important points on the data after EDA using ydata profiling:\n",
    "* Loan amount is little right skewed.\n",
    "* Term has 2 categories 36 months and 60 months.\n",
    "* The data has no duplicates.\n",
    "* Interest rate is slightly skewed and has no missing values.\n",
    "* Intsallment amount is also highly right skewed but we would not want to use it in analysis, as installment will be decided after the company has decided to give the loan, but here the objective is whether to give loan or not.\n",
    "* The grade of the loans is categorical with B being the most common and G being the least common.\n",
    "* There are a lot of categories in the employee_title column with missing values, won't be much useful for our analysis.\n",
    "* The employee_length has 11 distinct categories with most common category being more than 10 years.\n",
    "* Home ownership has 6 distinct categories, out of which the last 2 categories occur very less number of times.\n",
    "* Annual income is highly skewed with skew value of around 41. Need to transform this column if applying logistic regression.\n",
    "* Issue d is the issue date which will be after the loan has been approved, but here our objective is to check if the loan should be approved or not, so we can remove the column to avoid data leakage.\n",
    "* There are almost 48k distinct values in title column so that will not be useful for us.\n",
    "* Open_acc and Pub_rec are also highly right skewed.\n",
    "* Revol_bal is also right skewed.\n",
    "* Revol util is very slightly left skewed and close to normal so will not transform this.\n",
    "* Total account is slightly right skewed.\n",
    "* Mortgage accounts also is right skewed should be transformed.\n",
    "* pub_rec_bankruptcies is also right skewed and should be transformed.\n",
    "* The last 6 digits of address column is the zipcode which can be a useful feature."
   ]
  },
  {
   "cell_type": "markdown",
   "metadata": {},
   "source": [
    "### Test Data separation"
   ]
  },
  {
   "cell_type": "code",
   "execution_count": 35,
   "metadata": {},
   "outputs": [],
   "source": [
    "x = df.drop(columns=[config.TARGET])\n",
    "y = df[config.TARGET]\n",
    "from sklearn.model_selection import train_test_split"
   ]
  },
  {
   "cell_type": "code",
   "execution_count": 36,
   "metadata": {},
   "outputs": [],
   "source": [
    "x_train,x_test,y_train,y_test = train_test_split(x,y,test_size=0.3,random_state=42,stratify=y)"
   ]
  },
  {
   "cell_type": "code",
   "execution_count": 41,
   "metadata": {},
   "outputs": [],
   "source": [
    "# Validating if we have created a proper train and test split which is representative of the entire dataset\n",
    "# Create a profile report for the train dataset\n",
    "train_profile = ProfileReport(x_train, title=\"Train Dataset Profile\", explorative=True)\n",
    "\n",
    "# Creating a profile report for test dataset\n",
    "test_profile = ProfileReport(x_test,title='Test Dataset Profile', explorative=True)"
   ]
  },
  {
   "cell_type": "code",
   "execution_count": 42,
   "metadata": {},
   "outputs": [],
   "source": [
    "# We can compare the stats of train and test dataset using the below code.\n",
    "# comparision_report = train_profile.compare(test_profile)\n",
    "# comparision_report.to_notebook_iframe()"
   ]
  },
  {
   "cell_type": "markdown",
   "metadata": {},
   "source": [
    "### Outlier removal"
   ]
  },
  {
   "cell_type": "code",
   "execution_count": 51,
   "metadata": {},
   "outputs": [],
   "source": [
    "# Removing outliers in the training dataset and storing it in a different training set x_train_NO\n",
    "\n",
    "num = config.NUM_FEATURES + config.NUM_SKEWED_FEATURES\n",
    "\n",
    "q1 = df[num].quantile(0.25)\n",
    "q3 = df[num].quantile(0.75)\n",
    "iqr = q3-q1\n"
   ]
  },
  {
   "cell_type": "code",
   "execution_count": 59,
   "metadata": {},
   "outputs": [],
   "source": [
    "x_train_NO = x_train[~((x_train[num]<q1-(1.5*iqr)) | (x_train[num]>q3+(1.5*iqr))).any(axis=1)]"
   ]
  },
  {
   "cell_type": "code",
   "execution_count": 62,
   "metadata": {},
   "outputs": [],
   "source": [
    "y_train_NO = y_train.loc[x_train_NO.index]"
   ]
  },
  {
   "cell_type": "markdown",
   "metadata": {},
   "source": [
    "### Feature engineering\n",
    "\n",
    "* Let's remove the columns installment, issue_d and int_rate, because these things are given after the loan approval, but in our analysis we have to decide whether to give a loan or not so removing these to avoid data leakage.\n",
    "* Removing emp_title column as there are so many distinct values in it.\n",
    "* Absolute dates doesn't add any positive effect on the model so will remove it, alternatively we can create any relative date columns like difference between start date and end date etc.\n",
    "\n",
    "According to Feature engineering principles there are different types of data:\n",
    "1) Categorical ordinal data - Data which is categorical and has meaningful order (like small, medium, large)\n",
    "2) Categorical nominal data - Data which is categorical but doesn't have any meaningful order (like brands Nike, adidas, reebok etc)\n",
    "3) Numerical Discrete data - Data which is numerical and discrete which is 10,20,30 etc.\n",
    "4) Numerical continuos data - Data which is numerical and continuos."
   ]
  },
  {
   "cell_type": "markdown",
   "metadata": {},
   "source": []
  }
 ],
 "metadata": {
  "kernelspec": {
   "display_name": "credit-risk-model-EaCMi_1b-py3.11",
   "language": "python",
   "name": "python3"
  },
  "language_info": {
   "codemirror_mode": {
    "name": "ipython",
    "version": 3
   },
   "file_extension": ".py",
   "mimetype": "text/x-python",
   "name": "python",
   "nbconvert_exporter": "python",
   "pygments_lexer": "ipython3",
   "version": "3.11.5"
  }
 },
 "nbformat": 4,
 "nbformat_minor": 2
}
